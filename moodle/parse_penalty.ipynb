{
 "cells": [
  {
   "attachments": {},
   "cell_type": "markdown",
   "metadata": {},
   "source": [
    "You need to download the table from the moodle and this file will filter out the late hour penalties for all of them automatically"
   ]
  },
  {
   "cell_type": "code",
   "execution_count": 269,
   "metadata": {},
   "outputs": [],
   "source": [
    "import os\n",
    "import numpy as np\n",
    "import pandas as pd\n",
    "from bs4 import BeautifulSoup"
   ]
  },
  {
   "cell_type": "code",
   "execution_count": 270,
   "metadata": {},
   "outputs": [],
   "source": [
    "entry_to_name = dict()"
   ]
  },
  {
   "cell_type": "code",
   "execution_count": 271,
   "metadata": {},
   "outputs": [],
   "source": [
    "def parseHours(lateData):\n",
    "    lateData = lateData.lower()\n",
    "    if (\"submitted\" in lateData) or (\"not\" in lateData):\n",
    "        return 0\n",
    "    lateData = lateData.split(' ')\n",
    "    totalDay: float = 0\n",
    "    \n",
    "    if lateData[1] == 'days' or lateData[1] == 'day':\n",
    "        totalDay += int(lateData[0]) * 24\n",
    "        if len(lateData) > 3:\n",
    "            totalDay += int(lateData[2])\n",
    "    if lateData[1] == 'hours' or lateData[1] == 'hour':\n",
    "        totalDay += int(lateData[0])\n",
    "        if len(lateData) > 3:\n",
    "            totalDay += float(int(lateData[2]) / 60)\n",
    "    if lateData[1] == 'mins' or lateData[1] == 'min':\n",
    "        totalDay += float(int(lateData[0]) / 60)\n",
    "    return totalDay"
   ]
  },
  {
   "cell_type": "code",
   "execution_count": 272,
   "metadata": {},
   "outputs": [],
   "source": [
    "ids = [f'a{i}' for i in range(0, 5)]\n",
    "for id in ids:\n",
    "    with open(os.path.join(f'{id}_table.html')) as f:\n",
    "        soup = BeautifulSoup(f, 'html.parser')\n",
    "\n",
    "    rows = soup.find(\"table\").find(\"tbody\").find_all(\"tr\")\n",
    "\n",
    "    late_df = {\"Name\": [], \"EntryNo\": [], f\"LateHours_{id}\": []}\n",
    "    for row in rows:\n",
    "        cells = row.find_all(\"td\")\n",
    "        store = list()\n",
    "        for cell in cells[2:7]:\n",
    "            store.append(cell.get_text())\n",
    "        store = [val.strip() for val in store if len(val.strip()) > 0]\n",
    "        if len(store):\n",
    "            lateHours = store[2].split('\\n')[-1].strip()\n",
    "            if not('late' in lateHours):\n",
    "                lateHours = '0 day 0 hours'\n",
    "            lateHours = lateHours.replace('late', '')\n",
    "            late_df[\"Name\"].append(store[0])\n",
    "            late_df[\"EntryNo\"].append(store[1])\n",
    "            entry_to_name[store[1]] = store[0]\n",
    "            late_df[f\"LateHours_{id}\"].append(lateHours)\n",
    "\n",
    "    late_df = pd.DataFrame(late_df)\n",
    "    late_df.set_index(\"EntryNo\", inplace=True)\n",
    "    late_df.to_csv(os.path.join(f'late_{id}.csv'))"
   ]
  },
  {
   "cell_type": "code",
   "execution_count": 273,
   "metadata": {},
   "outputs": [],
   "source": [
    "final_df = pd.read_csv('late_a0.csv')\n",
    "for i in range(1, 5):\n",
    "    file_path = os.path.join(f'late_a{i}.csv')\n",
    "    late_df = pd.read_csv(file_path)\n",
    "    late_df.set_index('EntryNo', inplace=True)\n",
    "    final_df = final_df.merge(late_df[[f'LateHours_a{i}']], left_on='EntryNo', right_on='EntryNo', how='outer')\n",
    "\n",
    "final_df.head()\n",
    "final_df = final_df.replace(np.nan, 'Not Submitted')\n",
    "for _, row in final_df.iterrows():\n",
    "    name = entry_to_name[row['EntryNo']]\n",
    "    row['Name'] = name \n",
    "\n",
    "final_df.set_index('EntryNo', inplace=True)\n",
    "total_late_hours = dict()\n",
    "for idx, row in final_df.iterrows():\n",
    "    sum = 0\n",
    "    for col in [f'LateHours_a{i}' for i in range(0, 5)]:\n",
    "        sum += parseHours(row[col])\n",
    "    sum = round(sum, 2)\n",
    "    total_late_hours[idx] = sum\n",
    "\n",
    "final_df['TotalLateHours'] = list(total_late_hours.values())\n",
    "consider_for_penalty = [max(0, val - 120) for val in list(total_late_hours.values())]\n",
    "final_df['ConsiderForPenalty'] = consider_for_penalty\n",
    "final_df['PenaltyMarks'] = [float(val / 12) * 0.5 for val in consider_for_penalty]\n",
    "final_df.to_csv('final.csv')"
   ]
  }
 ],
 "metadata": {
  "kernelspec": {
   "display_name": "tf",
   "language": "python",
   "name": "python3"
  },
  "language_info": {
   "codemirror_mode": {
    "name": "ipython",
    "version": 3
   },
   "file_extension": ".py",
   "mimetype": "text/x-python",
   "name": "python",
   "nbconvert_exporter": "python",
   "pygments_lexer": "ipython3",
   "version": "3.8.16"
  },
  "orig_nbformat": 4
 },
 "nbformat": 4,
 "nbformat_minor": 2
}
